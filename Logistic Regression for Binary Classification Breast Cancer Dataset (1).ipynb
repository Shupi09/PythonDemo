{
 "cells": [
  {
   "cell_type": "markdown",
   "id": "aee21a76",
   "metadata": {},
   "source": [
    "# Logistic Regression – Binary Classification on  Breast Cancer dataset"
   ]
  },
  {
   "cell_type": "markdown",
   "id": "9ee7c2c2",
   "metadata": {},
   "source": [
    "### Dataset: Built-in load_breast_cancer() from sklearn.datasets. It’s clean and doesn’t require EDA.\n",
    "\n",
    "### Target Variable: 0 = malignant, 1 = benign\n",
    "\n",
    "### Model: LogisticRegression() from scikit-learn\n"
   ]
  },
  {
   "cell_type": "markdown",
   "id": "e0fcaa43",
   "metadata": {},
   "source": [
    "## Step 1: Import Required Libraries\n",
    "These provide tools for modeling and evaluation.\n"
   ]
  },
  {
   "cell_type": "code",
   "execution_count": 6,
   "id": "63f51c82",
   "metadata": {},
   "outputs": [],
   "source": [
    "# Import libraries\n",
    "from sklearn.datasets import load_breast_cancer\n",
    "from sklearn.model_selection import train_test_split\n",
    "from sklearn.linear_model import LogisticRegression\n",
    "from sklearn.metrics import accuracy_score, classification_report, confusion_matrix\n",
    "import seaborn as sns\n",
    "import matplotlib.pyplot as plt"
   ]
  },
  {
   "cell_type": "markdown",
   "id": "20931147",
   "metadata": {},
   "source": [
    "## Step 2: Load the Dataset\n",
    "We use a clean, built-in dataset — no need for extra preprocessing or EDA."
   ]
  },
  {
   "cell_type": "code",
   "execution_count": 7,
   "id": "d8c6e3a1",
   "metadata": {},
   "outputs": [],
   "source": [
    "data = load_breast_cancer()\n",
    "X = data.data         # Features\n",
    "y = data.target       # Labels: 0 = Malignant, 1 = Benign\n"
   ]
  },
  {
   "cell_type": "markdown",
   "id": "a61a25a7",
   "metadata": {},
   "source": [
    "## Step 3: Split the Data\n",
    "Divide into training and testing sets (80% train, 20% test)."
   ]
  },
  {
   "cell_type": "code",
   "execution_count": 8,
   "id": "33228ffd",
   "metadata": {},
   "outputs": [],
   "source": [
    "X_train, X_test, y_train, y_test = train_test_split(X, y, test_size=0.2, random_state=42)\n"
   ]
  },
  {
   "cell_type": "markdown",
   "id": "fdc282d5",
   "metadata": {},
   "source": [
    "## Step 4: Create and Train the Model\n",
    "Initialize the Logistic Regression model and fit it on training data."
   ]
  },
  {
   "cell_type": "code",
   "execution_count": 9,
   "id": "b55a8d65",
   "metadata": {},
   "outputs": [
    {
     "data": {
      "text/html": [
       "<style>#sk-container-id-1 {color: black;}#sk-container-id-1 pre{padding: 0;}#sk-container-id-1 div.sk-toggleable {background-color: white;}#sk-container-id-1 label.sk-toggleable__label {cursor: pointer;display: block;width: 100%;margin-bottom: 0;padding: 0.3em;box-sizing: border-box;text-align: center;}#sk-container-id-1 label.sk-toggleable__label-arrow:before {content: \"▸\";float: left;margin-right: 0.25em;color: #696969;}#sk-container-id-1 label.sk-toggleable__label-arrow:hover:before {color: black;}#sk-container-id-1 div.sk-estimator:hover label.sk-toggleable__label-arrow:before {color: black;}#sk-container-id-1 div.sk-toggleable__content {max-height: 0;max-width: 0;overflow: hidden;text-align: left;background-color: #f0f8ff;}#sk-container-id-1 div.sk-toggleable__content pre {margin: 0.2em;color: black;border-radius: 0.25em;background-color: #f0f8ff;}#sk-container-id-1 input.sk-toggleable__control:checked~div.sk-toggleable__content {max-height: 200px;max-width: 100%;overflow: auto;}#sk-container-id-1 input.sk-toggleable__control:checked~label.sk-toggleable__label-arrow:before {content: \"▾\";}#sk-container-id-1 div.sk-estimator input.sk-toggleable__control:checked~label.sk-toggleable__label {background-color: #d4ebff;}#sk-container-id-1 div.sk-label input.sk-toggleable__control:checked~label.sk-toggleable__label {background-color: #d4ebff;}#sk-container-id-1 input.sk-hidden--visually {border: 0;clip: rect(1px 1px 1px 1px);clip: rect(1px, 1px, 1px, 1px);height: 1px;margin: -1px;overflow: hidden;padding: 0;position: absolute;width: 1px;}#sk-container-id-1 div.sk-estimator {font-family: monospace;background-color: #f0f8ff;border: 1px dotted black;border-radius: 0.25em;box-sizing: border-box;margin-bottom: 0.5em;}#sk-container-id-1 div.sk-estimator:hover {background-color: #d4ebff;}#sk-container-id-1 div.sk-parallel-item::after {content: \"\";width: 100%;border-bottom: 1px solid gray;flex-grow: 1;}#sk-container-id-1 div.sk-label:hover label.sk-toggleable__label {background-color: #d4ebff;}#sk-container-id-1 div.sk-serial::before {content: \"\";position: absolute;border-left: 1px solid gray;box-sizing: border-box;top: 0;bottom: 0;left: 50%;z-index: 0;}#sk-container-id-1 div.sk-serial {display: flex;flex-direction: column;align-items: center;background-color: white;padding-right: 0.2em;padding-left: 0.2em;position: relative;}#sk-container-id-1 div.sk-item {position: relative;z-index: 1;}#sk-container-id-1 div.sk-parallel {display: flex;align-items: stretch;justify-content: center;background-color: white;position: relative;}#sk-container-id-1 div.sk-item::before, #sk-container-id-1 div.sk-parallel-item::before {content: \"\";position: absolute;border-left: 1px solid gray;box-sizing: border-box;top: 0;bottom: 0;left: 50%;z-index: -1;}#sk-container-id-1 div.sk-parallel-item {display: flex;flex-direction: column;z-index: 1;position: relative;background-color: white;}#sk-container-id-1 div.sk-parallel-item:first-child::after {align-self: flex-end;width: 50%;}#sk-container-id-1 div.sk-parallel-item:last-child::after {align-self: flex-start;width: 50%;}#sk-container-id-1 div.sk-parallel-item:only-child::after {width: 0;}#sk-container-id-1 div.sk-dashed-wrapped {border: 1px dashed gray;margin: 0 0.4em 0.5em 0.4em;box-sizing: border-box;padding-bottom: 0.4em;background-color: white;}#sk-container-id-1 div.sk-label label {font-family: monospace;font-weight: bold;display: inline-block;line-height: 1.2em;}#sk-container-id-1 div.sk-label-container {text-align: center;}#sk-container-id-1 div.sk-container {/* jupyter's `normalize.less` sets `[hidden] { display: none; }` but bootstrap.min.css set `[hidden] { display: none !important; }` so we also need the `!important` here to be able to override the default hidden behavior on the sphinx rendered scikit-learn.org. See: https://github.com/scikit-learn/scikit-learn/issues/21755 */display: inline-block !important;position: relative;}#sk-container-id-1 div.sk-text-repr-fallback {display: none;}</style><div id=\"sk-container-id-1\" class=\"sk-top-container\"><div class=\"sk-text-repr-fallback\"><pre>LogisticRegression(max_iter=10000)</pre><b>In a Jupyter environment, please rerun this cell to show the HTML representation or trust the notebook. <br />On GitHub, the HTML representation is unable to render, please try loading this page with nbviewer.org.</b></div><div class=\"sk-container\" hidden><div class=\"sk-item\"><div class=\"sk-estimator sk-toggleable\"><input class=\"sk-toggleable__control sk-hidden--visually\" id=\"sk-estimator-id-1\" type=\"checkbox\" checked><label for=\"sk-estimator-id-1\" class=\"sk-toggleable__label sk-toggleable__label-arrow\">LogisticRegression</label><div class=\"sk-toggleable__content\"><pre>LogisticRegression(max_iter=10000)</pre></div></div></div></div></div>"
      ],
      "text/plain": [
       "LogisticRegression(max_iter=10000)"
      ]
     },
     "execution_count": 9,
     "metadata": {},
     "output_type": "execute_result"
    }
   ],
   "source": [
    "model = LogisticRegression(max_iter=10000)\n",
    "model.fit(X_train, y_train)\n"
   ]
  },
  {
   "cell_type": "markdown",
   "id": "b3d34151",
   "metadata": {},
   "source": [
    "## Step 5: Make Predictions\n",
    "Use the trained model to predict outcomes on the test set."
   ]
  },
  {
   "cell_type": "code",
   "execution_count": 10,
   "id": "ade11441",
   "metadata": {},
   "outputs": [],
   "source": [
    "y_pred = model.predict(X_test)\n"
   ]
  },
  {
   "cell_type": "markdown",
   "id": "c42196a2",
   "metadata": {},
   "source": [
    "## Step 6: Evaluate the Model"
   ]
  },
  {
   "cell_type": "code",
   "execution_count": 11,
   "id": "fd585ffb",
   "metadata": {},
   "outputs": [
    {
     "name": "stdout",
     "output_type": "stream",
     "text": [
      "Accuracy: 0.956140350877193\n"
     ]
    }
   ],
   "source": [
    "#Accuracy Score\n",
    "\n",
    "\n",
    "print(\"Accuracy:\", accuracy_score(y_test, y_pred))"
   ]
  },
  {
   "cell_type": "code",
   "execution_count": 12,
   "id": "cedfb37d",
   "metadata": {},
   "outputs": [
    {
     "name": "stdout",
     "output_type": "stream",
     "text": [
      "              precision    recall  f1-score   support\n",
      "\n",
      "           0       0.97      0.91      0.94        43\n",
      "           1       0.95      0.99      0.97        71\n",
      "\n",
      "    accuracy                           0.96       114\n",
      "   macro avg       0.96      0.95      0.95       114\n",
      "weighted avg       0.96      0.96      0.96       114\n",
      "\n"
     ]
    }
   ],
   "source": [
    "#Classification Report – gives precision, recall, and F1-score.\n",
    "\n",
    "\n",
    "print(classification_report(y_test, y_pred))"
   ]
  },
  {
   "cell_type": "markdown",
   "id": "5d7f7e7c",
   "metadata": {},
   "source": [
    "Each row under the labels 0 and 1 corresponds to a class in your dataset.\n",
    "\n",
    "## Class 0:\n",
    "Precision (0.97): Of all predictions labeled as class 0, 97% were correct.\n",
    "\n",
    "Recall (0.91): Of all actual class 0 examples, 91% were correctly identified.\n",
    "\n",
    "F1-score (0.94): Harmonic mean of precision and recall.\n",
    "\n",
    "Support (43): There were 43 actual samples of class 0 in the test set.\n",
    "\n",
    "## Class 1:\n",
    "Precision (0.95): Of all predictions labeled as class 1, 95% were correct.\n",
    "\n",
    "Recall (0.99): Of all actual class 1 examples, 99% were correctly identified.\n",
    "\n",
    "F1-score (0.97): Very strong balance between precision and recall.\n",
    "\n",
    "Support (71): There were 71 actual samples of class 1.\n",
    "\n",
    "## Overall Metrics:\n",
    "Accuracy (0.96): Model got 96% of all predictions correct (regardless of class).\n",
    "\n",
    "--Macro Avg\tSimple average across classes (gives equal weight to both classes).\n",
    "--Weighted Avg\tAverage across classes weighted by number of samples per class.\n",
    "\n",
    "In this case:\n",
    "Both macro and weighted averages are similar because the class distribution is not extremely imbalanced.\n",
    "\n",
    "Summary:\n",
    "Class 0 (probably the negative class) is slightly harder to classify (lower recall).\n",
    "\n",
    "Class 1 is classified extremely well.\n",
    "\n",
    "Overall performance is strong, with accuracy, precision, and recall around 95–97%."
   ]
  },
  {
   "cell_type": "code",
   "execution_count": 13,
   "id": "9a5c5610",
   "metadata": {},
   "outputs": [
    {
     "data": {
      "image/png": "[encoded data removed]",
      "text/plain": [
       "<Figure size 640x480 with 2 Axes>"
      ]
     },
     "metadata": {},
     "output_type": "display_data"
    }
   ],
   "source": [
    "#Confusion Matrix – shows TP, TN, FP, FN.\n",
    "\n",
    "\n",
    "cm = confusion_matrix(y_test, y_pred)\n",
    "sns.heatmap(cm, annot=True, fmt='d', cmap='Greens')\n",
    "plt.xlabel(\"Predicted\")\n",
    "plt.ylabel(\"Actual\")\n",
    "plt.title(\"Confusion Matrix\")\n",
    "plt.show()\n"
   ]
  },
  {
   "cell_type": "markdown",
   "id": "437b0ad8",
   "metadata": {},
   "source": [
    "| Metric           | Description                                    |\n",
    "| ---------------- | ---------------------------------------------- |\n",
    "| Accuracy         | Overall correctness of the model               |\n",
    "| Precision        | How many predicted positives were correct      |\n",
    "| Recall           | How many actual positives were correctly found |\n",
    "| F1-Score         | Harmonic mean of precision and recall          |\n",
    "| Confusion Matrix | Visual summary of TP, TN, FP, FN               |\n"
   ]
  },
  {
   "cell_type": "markdown",
   "id": "a632bc18",
   "metadata": {},
   "source": [
    "## Questions to discuss\n",
    "\n",
    "What does a high accuracy indicate in this context? Is it always reliable?\n",
    "\n",
    "What could lead to high accuracy but low precision or recall?\n",
    "\n",
    "If the dataset was imbalanced (e.g., more malignant cases), how would it affect the model?\n",
    "\n",
    "Why is max_iter=10000 used in Logistic Regression here?\n",
    "\n",
    "What would change if this were a multiclass classification problem?"
   ]
  }
 ],
 "metadata": {
  "kernelspec": {
   "display_name": "Python 3 (ipykernel)",
   "language": "python",
   "name": "python3"
  },
  "language_info": {
   "codemirror_mode": {
    "name": "ipython",
    "version": 3
   },
   "file_extension": ".py",
   "mimetype": "text/x-python",
   "name": "python",
   "nbconvert_exporter": "python",
   "pygments_lexer": "ipython3",
   "version": "3.9.16"
  }
 },
 "nbformat": 4,
 "nbformat_minor": 5
}
