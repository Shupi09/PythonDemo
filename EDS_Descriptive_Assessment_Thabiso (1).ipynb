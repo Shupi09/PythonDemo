{
 "cells": [
  {
   "cell_type": "markdown",
   "id": "9811ca2a",
   "metadata": {},
   "source": [
    "# 🧪 EDS & Descriptive Data Analysis Assessment\n",
    "**Dataset**: `car_data_pro_red.xlsx`\n",
    "\n",
    "This notebook contains 4 scenario-based questions, each worth 25 marks, for a total of 100 marks. Please answer all coding and explanation parts in the cells provided."
   ]
  },
  {
   "cell_type": "markdown",
   "id": "77786bfc",
   "metadata": {},
   "source": [
    "## ✅ Scenario 1: Understanding the Dataset and Descriptive Statistics (25 Marks)\n",
    "**Background**: You are hired as a data analyst by a used car dealership to understand trends and performance in their inventory."
   ]
  },
  {
   "cell_type": "markdown",
   "id": "00df1097",
   "metadata": {},
   "source": [
    "### Question 1\n",
    "1. Identify **3 numerical** and **3 categorical** variables in the dataset and explain your choice. (6 marks)\n",
    "2. Using Pandas, calculate and interpret the **mean**, **median**, and **standard deviation** for the `selling_price` column. (6 marks)\n",
    "3. Identify any **two outliers** from the `selling_price` column using the IQR method, and briefly explain why they’re considered outliers. (6 marks)\n",
    "4. Explain the **difference between descriptive and inferential statistics**, and give one example of each using this dataset. (4 marks)\n",
    "5. What is the **shape of the distribution** for `km_driven` — is it skewed or symmetrical? How would you check? (3 marks)"
   ]
  },
  {
   "cell_type": "markdown",
   "id": "28de8bea",
   "metadata": {},
   "source": [
    "## ✅ Scenario 2: Group Comparisons and Data Aggregation (25 Marks)\n",
    "**Background**: Management wants to understand how vehicle characteristics relate to pricing, especially differences between automatic and manual cars."
   ]
  },
  {
   "cell_type": "markdown",
   "id": "89cf6e66",
   "metadata": {},
   "source": [
    "### Question 2\n",
    "1. Group the dataset by `transmission` and calculate the **average selling price** for each group. (5 marks)\n",
    "2. Compare the **average km_driven** for diesel and petrol vehicles. What does this suggest about fuel efficiency or usage? (5 marks)\n",
    "3. Create a boxplot to show the distribution of `selling_price` by `fuel` type. Interpret the results. (6 marks)\n",
    "4. Use a **grouped bar chart** to compare the number of cars by `fuel` type and `transmission`. (6 marks)\n",
    "5. What insights can you draw about **manual vs automatic** cars in terms of resale value and popularity? (3 marks)"
   ]
  },
  {
   "cell_type": "markdown",
   "id": "3f30ee66",
   "metadata": {},
   "source": [
    "## ✅ Scenario 3: Data Cleaning and Preparation (25 Marks)\n",
    "**Background**: You’ve noticed some inconsistencies and missing values in the dataset and need to prepare it for reporting."
   ]
  },
  {
   "cell_type": "markdown",
   "id": "65c7a69e",
   "metadata": {},
   "source": [
    "### Question 3\n",
    "1. List **3 data cleaning steps** you would apply to this dataset. (6 marks)\n",
    "2. How would you handle **missing values** in the `owner` or `mileage` column? Explain 2 different techniques. (6 marks)\n",
    "3. Define **data type conversion**, and give an example from this dataset where it's necessary. (4 marks)\n",
    "4. One row has `Test Drive Car` as its name — what would you do with this row and why? (3 marks)\n",
    "5. Describe a method to detect **duplicate entries** and how you would resolve them. (6 marks)"
   ]
  },
  {
   "cell_type": "markdown",
   "id": "58175345",
   "metadata": {},
   "source": [
    "## ✅ Scenario 4: Visualisation and Reporting (25 Marks)\n",
    "**Background**: Your manager wants a clear summary report for investors, highlighting patterns in pricing, age of cars, and transmission type."
   ]
  },
  {
   "cell_type": "markdown",
   "id": "70469394",
   "metadata": {},
   "source": [
    "### Question 4\n",
    "1. Plot a histogram of the **vehicle age (`2024 - year`)**. What does this tell you about the dealership’s inventory? (5 marks)\n",
    "2. Create a scatter plot of `selling_price` vs `km_driven`. Is there a visible relationship? (5 marks)\n",
    "3. Explain when you would use a **line graph** vs a **bar chart**, and provide an example of each using this dataset. (5 marks)\n",
    "4. What visualisation would you use to compare car popularity by name, and why? (4 marks)\n",
    "5. Discuss 3 principles of **effective data visualisation** and apply them to one chart you would present to management. (6 marks)"
   ]
  }
 ],
 "metadata": {},
 "nbformat": 4,
 "nbformat_minor": 5
}
