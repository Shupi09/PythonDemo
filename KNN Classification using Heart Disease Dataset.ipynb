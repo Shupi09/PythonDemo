{
 "cells": [
  {
   "cell_type": "markdown",
   "id": "b80a3cfb",
   "metadata": {},
   "source": [
    "## KNN Code Using Heart Disease Dataset"
   ]
  },
  {
   "cell_type": "markdown",
   "id": "17d0e8ed",
   "metadata": {},
   "source": [
    "Heart Disease Dataset (Cleveland)\n",
    "Overview\n",
    "The Heart Disease dataset is a well-known medical dataset used to predict the presence or absence of heart disease based on patient data. It originates from the Cleveland Heart Disease study, and is often used for classification problems in machine learning.\n",
    "\n",
    "Dataset Information\n",
    "### Heart Disease Dataset (Cleveland) – Description\n",
    "\n",
    "- **Total Instances:** ~303\n",
    "- **Problem Type:** Classification\n",
    "- **Goal:** Predict the presence of heart disease in a patient\n",
    "\n",
    "###  Input Features (Independent Variables)\n",
    "\n",
    "- `age`: Age of the patient\n",
    "- `sex`: Sex (1 = male, 0 = female)\n",
    "- `cp`: Chest pain type  \n",
    "  - 0: Typical angina  \n",
    "  - 1: Atypical angina  \n",
    "  - 2: Non-anginal pain  \n",
    "  - 3: Asymptomatic\n",
    "- `trestbps`: Resting blood pressure (in mm Hg)\n",
    "- `chol`: Serum cholesterol in mg/dl\n",
    "- `fbs`: Fasting blood sugar > 120 mg/dl (1 = true, 0 = false)\n",
    "- `restecg`: Resting electrocardiographic results (0, 1, 2)\n",
    "- `thalach`: Maximum heart rate achieved\n",
    "- `exang`: Exercise-induced angina (1 = yes, 0 = no)\n",
    "- `oldpeak`: ST depression induced by exercise relative to rest\n",
    "- `slope`: Slope of the peak exercise ST segment (0, 1, 2)\n",
    "- `ca`: Number of major vessels (0–3) colored by fluoroscopy\n",
    "- `thal`: Thalassemia type  \n",
    "  - 1: Normal  \n",
    "  - 2: Fixed defect  \n",
    "  - 3: Reversible defect\n",
    "\n",
    "### Target Variable (Dependent Variable)\n",
    "\n",
    "- `target`: Heart disease diagnosis  \n",
    "  - 0: No heart disease  \n",
    "  - 1: Heart disease present\n",
    "\n",
    "\n",
    "Use Cases\n",
    "Predicting patient risk levels\n",
    "\n",
    "Feature importance analysis in healthcare\n",
    "\n",
    "Benchmarking classification algorithms (KNN, Logistic Regression, etc.)\n",
    "\n",
    "Teaching ML pipelines with real-world data"
   ]
  },
  {
   "cell_type": "markdown",
   "id": "190751fd",
   "metadata": {},
   "source": [
    "## KNN Multiclass Classification – Steps Before Each Code Block\n",
    "\n",
    "### 1. Import Required Libraries\n",
    "Import all necessary libraries such as pandas, NumPy, scikit-learn modules for preprocessing, model building, and evaluation.\n",
    "\n",
    "### 2. Load the Dataset\n",
    "Read the dataset (e.g., from a CSV file). Ensure the dataset has a target column representing the classes.\n",
    "\n",
    "### 3. Explore the Dataset\n",
    "Display basic info like the first few rows, check for missing values, and confirm the number of target classes.\n",
    "\n",
    "### 4. Preprocess the Data\n",
    "Separate features and target. Apply feature scaling to bring all variables to the same scale, which is important for distance-based algorithms like KNN.\n",
    "\n",
    "### 5. Split the Dataset\n",
    "Divide the data into training and test sets to evaluate model performance fairly.\n",
    "\n",
    "### 6. Train the KNN Model\n",
    "Initialize the KNN classifier and fit it to the training data.\n",
    "\n",
    "### 7. Make Predictions\n",
    "Use the trained model to predict the classes for the test set.\n",
    "\n",
    "### 8. Evaluate the Model\n",
    "Check model performance using metrics like confusion matrix, accuracy, and classification report.\n",
    "\n",
    "### 9. Optional: Tune k Value\n",
    "Test multiple values of ‘k’ using cross-validation to find the one that gives the best performance.\n"
   ]
  },
  {
   "cell_type": "code",
   "execution_count": 1,
   "id": "3cc0666e",
   "metadata": {},
   "outputs": [],
   "source": [
    "#Import Required Libraries¶\n",
    "import pandas as pd\n",
    "from sklearn.model_selection import train_test_split\n",
    "from sklearn.preprocessing import StandardScaler\n",
    "from sklearn.neighbors import KNeighborsClassifier\n",
    "from sklearn.metrics import confusion_matrix, classification_report\n",
    "import seaborn as sns\n",
    "import matplotlib.pyplot as plt"
   ]
  },
  {
   "cell_type": "code",
   "execution_count": 14,
   "id": "70249662",
   "metadata": {},
   "outputs": [
    {
     "data": {
      "text/html": [
       "<div>\n",
       "<style scoped>\n",
       "    .dataframe tbody tr th:only-of-type {\n",
       "        vertical-align: middle;\n",
       "    }\n",
       "\n",
       "    .dataframe tbody tr th {\n",
       "        vertical-align: top;\n",
       "    }\n",
       "\n",
       "    .dataframe thead th {\n",
       "        text-align: right;\n",
       "    }\n",
       "</style>\n",
       "<table border=\"1\" class=\"dataframe\">\n",
       "  <thead>\n",
       "    <tr style=\"text-align: right;\">\n",
       "      <th></th>\n",
       "      <th>age</th>\n",
       "      <th>sex</th>\n",
       "      <th>cp</th>\n",
       "      <th>trestbps</th>\n",
       "      <th>chol</th>\n",
       "      <th>fbs</th>\n",
       "      <th>restecg</th>\n",
       "      <th>thalach</th>\n",
       "      <th>exang</th>\n",
       "      <th>oldpeak</th>\n",
       "      <th>slope</th>\n",
       "      <th>ca</th>\n",
       "      <th>thal</th>\n",
       "      <th>target</th>\n",
       "    </tr>\n",
       "  </thead>\n",
       "  <tbody>\n",
       "    <tr>\n",
       "      <th>0</th>\n",
       "      <td>63</td>\n",
       "      <td>1</td>\n",
       "      <td>3</td>\n",
       "      <td>145</td>\n",
       "      <td>233</td>\n",
       "      <td>1</td>\n",
       "      <td>0</td>\n",
       "      <td>150</td>\n",
       "      <td>0</td>\n",
       "      <td>2.3</td>\n",
       "      <td>0</td>\n",
       "      <td>0</td>\n",
       "      <td>1</td>\n",
       "      <td>1</td>\n",
       "    </tr>\n",
       "    <tr>\n",
       "      <th>1</th>\n",
       "      <td>37</td>\n",
       "      <td>1</td>\n",
       "      <td>2</td>\n",
       "      <td>130</td>\n",
       "      <td>250</td>\n",
       "      <td>0</td>\n",
       "      <td>1</td>\n",
       "      <td>187</td>\n",
       "      <td>0</td>\n",
       "      <td>3.5</td>\n",
       "      <td>0</td>\n",
       "      <td>0</td>\n",
       "      <td>2</td>\n",
       "      <td>1</td>\n",
       "    </tr>\n",
       "    <tr>\n",
       "      <th>2</th>\n",
       "      <td>41</td>\n",
       "      <td>0</td>\n",
       "      <td>1</td>\n",
       "      <td>130</td>\n",
       "      <td>204</td>\n",
       "      <td>0</td>\n",
       "      <td>0</td>\n",
       "      <td>172</td>\n",
       "      <td>0</td>\n",
       "      <td>1.4</td>\n",
       "      <td>2</td>\n",
       "      <td>0</td>\n",
       "      <td>2</td>\n",
       "      <td>1</td>\n",
       "    </tr>\n",
       "    <tr>\n",
       "      <th>3</th>\n",
       "      <td>56</td>\n",
       "      <td>1</td>\n",
       "      <td>1</td>\n",
       "      <td>120</td>\n",
       "      <td>236</td>\n",
       "      <td>0</td>\n",
       "      <td>1</td>\n",
       "      <td>178</td>\n",
       "      <td>0</td>\n",
       "      <td>0.8</td>\n",
       "      <td>2</td>\n",
       "      <td>0</td>\n",
       "      <td>2</td>\n",
       "      <td>1</td>\n",
       "    </tr>\n",
       "    <tr>\n",
       "      <th>4</th>\n",
       "      <td>57</td>\n",
       "      <td>0</td>\n",
       "      <td>0</td>\n",
       "      <td>120</td>\n",
       "      <td>354</td>\n",
       "      <td>0</td>\n",
       "      <td>1</td>\n",
       "      <td>163</td>\n",
       "      <td>1</td>\n",
       "      <td>0.6</td>\n",
       "      <td>2</td>\n",
       "      <td>0</td>\n",
       "      <td>2</td>\n",
       "      <td>1</td>\n",
       "    </tr>\n",
       "  </tbody>\n",
       "</table>\n",
       "</div>"
      ],
      "text/plain": [
       "   age  sex  cp  trestbps  chol  fbs  restecg  thalach  exang  oldpeak  slope  \\\n",
       "0   63    1   3       145   233    1        0      150      0      2.3      0   \n",
       "1   37    1   2       130   250    0        1      187      0      3.5      0   \n",
       "2   41    0   1       130   204    0        0      172      0      1.4      2   \n",
       "3   56    1   1       120   236    0        1      178      0      0.8      2   \n",
       "4   57    0   0       120   354    0        1      163      1      0.6      2   \n",
       "\n",
       "   ca  thal  target  \n",
       "0   0     1       1  \n",
       "1   0     2       1  \n",
       "2   0     2       1  \n",
       "3   0     2       1  \n",
       "4   0     2       1  "
      ]
     },
     "execution_count": 14,
     "metadata": {},
     "output_type": "execute_result"
    }
   ],
   "source": [
    "# Load the dataset\n",
    "url = \"https://raw.githubusercontent.com/mrdbourke/zero-to-mastery-ml/master/data/heart-disease.csv\"\n",
    "\n",
    "df = pd.read_csv(url)\n",
    "df.head()\n"
   ]
  },
  {
   "cell_type": "code",
   "execution_count": 15,
   "id": "642c9005",
   "metadata": {},
   "outputs": [],
   "source": [
    "\n",
    "# Features and target\n",
    "X = df.drop(\"target\", axis=1)\n",
    "y = df[\"target\"]"
   ]
  },
  {
   "cell_type": "code",
   "execution_count": 16,
   "id": "d78c435f",
   "metadata": {},
   "outputs": [],
   "source": [
    "# Train-test split\n",
    "X_train, X_test, y_train, y_test = train_test_split(X, y, test_size=0.2, random_state=42, stratify=y)"
   ]
  },
  {
   "cell_type": "code",
   "execution_count": 21,
   "id": "2132dbf2",
   "metadata": {},
   "outputs": [
    {
     "name": "stdout",
     "output_type": "stream",
     "text": [
      "After Scaling\n",
      "[[ 1.61047991 -1.46385011  2.04442042 ...  0.94818498  1.20703366\n",
      "  -0.56122273]\n",
      " [ 1.28205058  0.68313005  0.05747367 ... -0.6677359   2.16789598\n",
      "  -2.21751422]\n",
      " [ 0.0778097  -1.46385011 -0.93599971 ... -0.6677359   0.24617134\n",
      "   1.09506875]\n",
      " ...\n",
      " [-0.36009607 -1.46385011  1.05094704 ...  0.94818498 -0.71469098\n",
      "  -0.56122273]\n",
      " [ 0.0778097   0.68313005  0.05747367 ...  0.94818498 -0.71469098\n",
      "  -0.56122273]\n",
      " [ 1.0630977  -1.46385011 -0.93599971 ...  0.94818498 -0.71469098\n",
      "  -0.56122273]]\n"
     ]
    }
   ],
   "source": [
    "# Scale features\n",
    "print(\"After Scaling\")\n",
    "scaler = StandardScaler()\n",
    "X_train_scaled = scaler.fit_transform(X_train)\n",
    "X_test_scaled = scaler.transform(X_test)\n",
    "print(X_train_scaled)"
   ]
  },
  {
   "cell_type": "code",
   "execution_count": 10,
   "id": "76e6466c",
   "metadata": {},
   "outputs": [
    {
     "data": {
      "text/html": [
       "<style>#sk-container-id-1 {color: black;}#sk-container-id-1 pre{padding: 0;}#sk-container-id-1 div.sk-toggleable {background-color: white;}#sk-container-id-1 label.sk-toggleable__label {cursor: pointer;display: block;width: 100%;margin-bottom: 0;padding: 0.3em;box-sizing: border-box;text-align: center;}#sk-container-id-1 label.sk-toggleable__label-arrow:before {content: \"▸\";float: left;margin-right: 0.25em;color: #696969;}#sk-container-id-1 label.sk-toggleable__label-arrow:hover:before {color: black;}#sk-container-id-1 div.sk-estimator:hover label.sk-toggleable__label-arrow:before {color: black;}#sk-container-id-1 div.sk-toggleable__content {max-height: 0;max-width: 0;overflow: hidden;text-align: left;background-color: #f0f8ff;}#sk-container-id-1 div.sk-toggleable__content pre {margin: 0.2em;color: black;border-radius: 0.25em;background-color: #f0f8ff;}#sk-container-id-1 input.sk-toggleable__control:checked~div.sk-toggleable__content {max-height: 200px;max-width: 100%;overflow: auto;}#sk-container-id-1 input.sk-toggleable__control:checked~label.sk-toggleable__label-arrow:before {content: \"▾\";}#sk-container-id-1 div.sk-estimator input.sk-toggleable__control:checked~label.sk-toggleable__label {background-color: #d4ebff;}#sk-container-id-1 div.sk-label input.sk-toggleable__control:checked~label.sk-toggleable__label {background-color: #d4ebff;}#sk-container-id-1 input.sk-hidden--visually {border: 0;clip: rect(1px 1px 1px 1px);clip: rect(1px, 1px, 1px, 1px);height: 1px;margin: -1px;overflow: hidden;padding: 0;position: absolute;width: 1px;}#sk-container-id-1 div.sk-estimator {font-family: monospace;background-color: #f0f8ff;border: 1px dotted black;border-radius: 0.25em;box-sizing: border-box;margin-bottom: 0.5em;}#sk-container-id-1 div.sk-estimator:hover {background-color: #d4ebff;}#sk-container-id-1 div.sk-parallel-item::after {content: \"\";width: 100%;border-bottom: 1px solid gray;flex-grow: 1;}#sk-container-id-1 div.sk-label:hover label.sk-toggleable__label {background-color: #d4ebff;}#sk-container-id-1 div.sk-serial::before {content: \"\";position: absolute;border-left: 1px solid gray;box-sizing: border-box;top: 0;bottom: 0;left: 50%;z-index: 0;}#sk-container-id-1 div.sk-serial {display: flex;flex-direction: column;align-items: center;background-color: white;padding-right: 0.2em;padding-left: 0.2em;position: relative;}#sk-container-id-1 div.sk-item {position: relative;z-index: 1;}#sk-container-id-1 div.sk-parallel {display: flex;align-items: stretch;justify-content: center;background-color: white;position: relative;}#sk-container-id-1 div.sk-item::before, #sk-container-id-1 div.sk-parallel-item::before {content: \"\";position: absolute;border-left: 1px solid gray;box-sizing: border-box;top: 0;bottom: 0;left: 50%;z-index: -1;}#sk-container-id-1 div.sk-parallel-item {display: flex;flex-direction: column;z-index: 1;position: relative;background-color: white;}#sk-container-id-1 div.sk-parallel-item:first-child::after {align-self: flex-end;width: 50%;}#sk-container-id-1 div.sk-parallel-item:last-child::after {align-self: flex-start;width: 50%;}#sk-container-id-1 div.sk-parallel-item:only-child::after {width: 0;}#sk-container-id-1 div.sk-dashed-wrapped {border: 1px dashed gray;margin: 0 0.4em 0.5em 0.4em;box-sizing: border-box;padding-bottom: 0.4em;background-color: white;}#sk-container-id-1 div.sk-label label {font-family: monospace;font-weight: bold;display: inline-block;line-height: 1.2em;}#sk-container-id-1 div.sk-label-container {text-align: center;}#sk-container-id-1 div.sk-container {/* jupyter's `normalize.less` sets `[hidden] { display: none; }` but bootstrap.min.css set `[hidden] { display: none !important; }` so we also need the `!important` here to be able to override the default hidden behavior on the sphinx rendered scikit-learn.org. See: https://github.com/scikit-learn/scikit-learn/issues/21755 */display: inline-block !important;position: relative;}#sk-container-id-1 div.sk-text-repr-fallback {display: none;}</style><div id=\"sk-container-id-1\" class=\"sk-top-container\"><div class=\"sk-text-repr-fallback\"><pre>KNeighborsClassifier(n_neighbors=7)</pre><b>In a Jupyter environment, please rerun this cell to show the HTML representation or trust the notebook. <br />On GitHub, the HTML representation is unable to render, please try loading this page with nbviewer.org.</b></div><div class=\"sk-container\" hidden><div class=\"sk-item\"><div class=\"sk-estimator sk-toggleable\"><input class=\"sk-toggleable__control sk-hidden--visually\" id=\"sk-estimator-id-1\" type=\"checkbox\" checked><label for=\"sk-estimator-id-1\" class=\"sk-toggleable__label sk-toggleable__label-arrow\">KNeighborsClassifier</label><div class=\"sk-toggleable__content\"><pre>KNeighborsClassifier(n_neighbors=7)</pre></div></div></div></div></div>"
      ],
      "text/plain": [
       "KNeighborsClassifier(n_neighbors=7)"
      ]
     },
     "execution_count": 10,
     "metadata": {},
     "output_type": "execute_result"
    }
   ],
   "source": [
    "# Train the model\n",
    "knn = KNeighborsClassifier(n_neighbors=7)\n",
    "knn.fit(X_train_scaled, y_train)"
   ]
  },
  {
   "cell_type": "code",
   "execution_count": 11,
   "id": "a66153df",
   "metadata": {},
   "outputs": [],
   "source": [
    "# Predict\n",
    "y_pred = knn.predict(X_test_scaled)"
   ]
  },
  {
   "cell_type": "code",
   "execution_count": 25,
   "id": "bf941085",
   "metadata": {},
   "outputs": [
    {
     "name": "stdout",
     "output_type": "stream",
     "text": [
      "Classification Report:\n",
      "               precision    recall  f1-score   support\n",
      "\n",
      "           0       0.87      0.71      0.78        28\n",
      "           1       0.79      0.91      0.85        33\n",
      "\n",
      "    accuracy                           0.82        61\n",
      "   macro avg       0.83      0.81      0.81        61\n",
      "weighted avg       0.83      0.82      0.82        61\n",
      "\n",
      "Confusion Matrix:\n",
      " [[20  8]\n",
      " [ 3 30]]\n"
     ]
    }
   ],
   "source": [
    "# Evaluate\n",
    "\n",
    "cm = confusion_matrix(y_test, y_pred)\n",
    "\n",
    "print(\"Classification Report:\\n\", classification_report(y_test, y_pred))\n",
    "print(\"Confusion Matrix:\\n\", confusion_matrix(y_test, y_pred))"
   ]
  },
  {
   "cell_type": "markdown",
   "id": "ab43b392",
   "metadata": {},
   "source": [
    "\n",
    "---\n",
    "\n",
    "### Metrics Breakdown\n",
    "\n",
    "| Metric         | Class 0 (No Disease) | Class 1 (Disease) | Description |\n",
    "|----------------|----------------------|-------------------|-------------|\n",
    "| **Precision**  | 0.87                 | 0.79              | How many selected items are relevant? |\n",
    "| **Recall**     | 0.71                 | 0.91              | How many relevant items are selected? |\n",
    "| **F1-score**   | 0.78                 | 0.85              | Harmonic mean of Precision and Recall |\n",
    "| **Support**    | 28                   | 33                | Number of actual instances of the class |\n",
    "\n",
    "---\n",
    "\n",
    "###  Overall Metrics\n",
    "\n",
    "| Metric          | Value | Description |\n",
    "|-----------------|--------|-------------|\n",
    "| **Accuracy**    | 0.82   | Correct predictions out of total |\n",
    "| **Macro Avg**   | 0.83 precision, 0.81 recall, 0.81 f1 | Treats all classes equally |\n",
    "| **Weighted Avg**| 0.83 precision, 0.82 recall, 0.82 f1 | Weighs metrics by class support |\n",
    "\n",
    "---\n",
    "\n",
    "##  Confusion Matrix\n",
    "\n"
   ]
  },
  {
   "cell_type": "markdown",
   "id": "1a0b699c",
   "metadata": {},
   "source": [
    "\n",
    "|                | Predicted 0 (No Disease) | Predicted 1 (Disease) |\n",
    "|----------------|--------------------------|------------------------|\n",
    "| **Actual 0**   | 20 (True Negatives)      | 8 (False Positives)    |\n",
    "| **Actual 1**   | 3 (False Negatives)      | 30 (True Positives)    |\n",
    "\n",
    "---\n",
    "\n",
    "### Interpretation\n",
    "\n",
    "- **True Negatives (20)**: Model correctly predicted No Disease.\n",
    "- **False Positives (8)**: Model incorrectly predicted Disease when it was No Disease.\n",
    "- **False Negatives (3)**: Model missed Disease cases.\n",
    "- **True Positives (30)**: Model correctly predicted Disease.\n",
    "\n",
    "---\n",
    "\n",
    "### Summary\n",
    "\n",
    "- Model has **strong recall (0.91) for Disease**, meaning it’s good at identifying positives.\n",
    "- **Lower recall (0.71) for No Disease** indicates more false positives.\n",
    "- **Overall performance is balanced** with **accuracy at 82%** and **F1-scores above 0.78** for both classes.\n",
    "\n"
   ]
  },
  {
   "cell_type": "code",
   "execution_count": 26,
   "id": "23503a4c",
   "metadata": {
    "scrolled": true
   },
   "outputs": [
    {
     "data": {
      "image/png": "[encoded data removed]",
      "text/plain": [
       "<Figure size 600x400 with 2 Axes>"
      ]
     },
     "metadata": {},
     "output_type": "display_data"
    }
   ],
   "source": [
    "plt.figure(figsize=(6, 4))\n",
    "sns.heatmap(cm, annot=True, fmt='d', cmap='Blues', xticklabels=['No Disease', 'Disease'], yticklabels=['No Disease', 'Disease'])\n",
    "plt.xlabel('Predicted')\n",
    "plt.ylabel('Actual')\n",
    "plt.title('Confusion Matrix Heatmap')\n",
    "plt.show()"
   ]
  },
  {
   "cell_type": "code",
   "execution_count": 13,
   "id": "593c6765",
   "metadata": {},
   "outputs": [
    {
     "data": {
      "image/png": "[encoded data removed]",
      "text/plain": [
       "<Figure size 640x480 with 1 Axes>"
      ]
     },
     "metadata": {},
     "output_type": "display_data"
    }
   ],
   "source": [
    "# Optional: Accuracy vs K plot\n",
    "scores = []\n",
    "k_values = range(1, 21)\n",
    "for k in k_values:\n",
    "    knn = KNeighborsClassifier(n_neighbors=k)\n",
    "    knn.fit(X_train_scaled, y_train)\n",
    "    scores.append(knn.score(X_test_scaled, y_test))\n",
    "\n",
    "plt.plot(k_values, scores, marker='o')\n",
    "plt.title(\"Accuracy vs K (Heart Disease Dataset)\")\n",
    "plt.xlabel(\"K\")\n",
    "plt.ylabel(\"Accuracy\")\n",
    "plt.xticks(k_values)\n",
    "plt.grid(True)\n",
    "plt.show()\n"
   ]
  },
  {
   "cell_type": "markdown",
   "id": "d1d463cf",
   "metadata": {},
   "source": [
    "The resulting graph shows how the model's accuracy changes with different values of K (number of neighbors)."
   ]
  }
 ],
 "metadata": {
  "kernelspec": {
   "display_name": "Python 3 (ipykernel)",
   "language": "python",
   "name": "python3"
  },
  "language_info": {
   "codemirror_mode": {
    "name": "ipython",
    "version": 3
   },
   "file_extension": ".py",
   "mimetype": "text/x-python",
   "name": "python",
   "nbconvert_exporter": "python",
   "pygments_lexer": "ipython3",
   "version": "3.9.16"
  }
 },
 "nbformat": 4,
 "nbformat_minor": 5
}
