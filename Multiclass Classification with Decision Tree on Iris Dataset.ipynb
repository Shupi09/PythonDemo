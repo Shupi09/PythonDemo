{
 "cells": [
  {
   "cell_type": "markdown",
   "id": "144b636d",
   "metadata": {},
   "source": [
    "## Multiclass Classification with Decision Tree on Iris Dataset"
   ]
  },
  {
   "cell_type": "markdown",
   "id": "ebeaf403",
   "metadata": {},
   "source": [
    "##  How a Decision Tree Classifier Works \n",
    "\n",
    "###  What is a Decision Tree?\n",
    "\n",
    "A **Decision Tree** is a flowchart-like structure used for making decisions. Each internal **node** represents a decision on a feature, each **branch** represents the outcome of that decision, and each **leaf node** represents a class label (prediction).\n",
    "\n",
    "It splits data into subsets based on the value of input features – similar to playing **\"20 Questions\"**, where each question narrows down the possibilities.\n",
    "\n",
    "---\n",
    "\n",
    "###  Real-Life Example: Predicting Fruit Type\n",
    "\n",
    "Suppose we want to classify a fruit as **Apple**, **Orange**, or **Grape** based on features like:\n",
    "\n",
    "- **Color** (Red, Orange, Purple)\n",
    "- **Size** (Large, Small)\n",
    "- **Texture** (Smooth, Rough)\n",
    "\n",
    "---\n",
    "\n",
    "### Example Decision Tree:\n",
    "\n",
    "           [Color?]\n",
    "          /   |    \\\n",
    "     Red  Orange  Purple\n",
    "     /       |       \\\n",
    " [Size?]   Orange   Grape\n",
    " /    \\\n",
    "\n",
    "---\n",
    "\n",
    "###  Example Input:\n",
    "\n",
    "A fruit with:\n",
    "- Color = Red\n",
    "- Size = Large\n",
    "\n",
    "**How the tree works:**\n",
    "1. First, it checks **Color**:\n",
    "   - Red → go to the left branch\n",
    "2. Then, it checks **Size**:\n",
    "   - Large → Predict **Apple**\n",
    "\n",
    " **Prediction: Apple**\n",
    "\n",
    "---\n",
    "\n",
    "###  How it Chooses the Splits?\n",
    "\n",
    "The algorithm looks for the **best feature to split the data** based on measures like:\n",
    "\n",
    "- **Gini Impurity**\n",
    "- **Information Gain** (used in ID3 algorithm)\n",
    "- These metrics help choose the question that gives the **purest split**, i.e., separates classes most effectively.\n",
    "\n",
    "---\n",
    "\n",
    "###  Final Prediction:\n",
    "\n",
    "When a new data point is given, it follows the path of decisions (from root to leaf) and reaches a leaf node which gives the **predicted class**.\n",
    "\n",
    "---\n",
    "\n",
    "###  Summary\n",
    "\n",
    "- Decision Trees are **interpretable** and **easy to visualize**.\n",
    "- They split the data based on features and make decisions step-by-step.\n",
    "- Best suited for data that can be naturally broken down by rules.\n",
    "\n",
    "---\n",
    "\n",
    "\n",
    "\n"
   ]
  },
  {
   "cell_type": "markdown",
   "id": "cf25b1da",
   "metadata": {},
   "source": [
    "## Iris Dataset – Overview\n",
    "\n",
    "The **Iris dataset** is one of the most famous and widely used datasets in machine learning and statistics.\n",
    "\n",
    "---\n",
    "\n",
    "### Key Features:\n",
    "- **Creator:** Introduced by *Ronald A. Fisher* in 1936  \n",
    "- **Purpose:** Used for demonstrating classification techniques and pattern recognition  \n",
    "- **Type:** Multiclass classification dataset  \n",
    "\n",
    "---\n",
    "\n",
    "### Dataset Details:\n",
    "\n",
    "| Feature                | Description                    |\n",
    "|------------------------|--------------------------------|\n",
    "| **Number of Instances**| 150 rows (samples)             |\n",
    "| **Number of Features** | 4 numerical features (continuous) |\n",
    "| **Number of Classes**  | 3 flower species               |\n",
    "| **Class Labels**       | - Setosa (0) - Versicolor (1) - Virginica (2)  \n",
    "\n",
    "---\n",
    "\n",
    "### Features (Columns):\n",
    "\n",
    "| Feature Name         | Unit        | Description              |\n",
    "|----------------------|-------------|--------------------------|\n",
    "| sepal length (cm)    | centimeters | Length of the sepal      |\n",
    "| sepal width (cm)     | centimeters | Width of the sepal       |\n",
    "| petal length (cm)    | centimeters | Length of the petal      |\n",
    "| petal width (cm)     | centimeters | Width of the petal       |\n",
    "\n",
    "---\n",
    "\n",
    "### Objective:\n",
    "To predict the **species of Iris flower** based on its physical measurements (sepal and petal dimensions).\n",
    "\n",
    "---\n",
    "\n",
    "### Why is the Iris Dataset Important?\n",
    "\n",
    "- **Simple and Clean:** Easy to understand for beginners  \n",
    "- **Balanced Classes:** Each class has 50 samples  \n",
    "- **Perfect for Learning:** Great for practicing supervised classification algorithms (Decision Trees, KNN, SVM, etc.)  \n",
    "- **Multiclass Problem:** Allows working with more than two classes\n"
   ]
  },
  {
   "cell_type": "markdown",
   "id": "be7dd871",
   "metadata": {},
   "source": [
    "## Steps: \n",
    "1.Import required libraries\n",
    "\n",
    "2.Load the Iris dataset\n",
    "\n",
    "3.Split the data into training and test sets\n",
    "\n",
    "4.Train a Decision Tree classifier\n",
    "\n",
    "5.Make predictions\n",
    "\n",
    "6.Evaluate using accuracy, precision, recall, F1-score\n",
    "\n",
    "7.Plot the confusion matrix and show classification report"
   ]
  },
  {
   "cell_type": "markdown",
   "id": "c6410c04",
   "metadata": {},
   "source": [
    "##  Step 1: Import necessary libraries\n"
   ]
  },
  {
   "cell_type": "code",
   "execution_count": 3,
   "id": "05f9874b",
   "metadata": {},
   "outputs": [],
   "source": [
    "from sklearn.datasets import load_iris\n",
    "from sklearn.model_selection import train_test_split\n",
    "from sklearn.tree import DecisionTreeClassifier\n",
    "from sklearn.metrics import (\n",
    "    accuracy_score,\n",
    "    precision_score,\n",
    "    recall_score,\n",
    "    f1_score,\n",
    "    confusion_matrix,\n",
    "    classification_report\n",
    ")\n",
    "import seaborn as sns\n",
    "import matplotlib.pyplot as plt"
   ]
  },
  {
   "cell_type": "markdown",
   "id": "3c47d6ca",
   "metadata": {},
   "source": [
    "## Step 2: Load the Iris dataset\n"
   ]
  },
  {
   "cell_type": "code",
   "execution_count": 4,
   "id": "ed7f6529",
   "metadata": {},
   "outputs": [],
   "source": [
    "iris = load_iris()\n",
    "X = iris.data  # Features\n",
    "y = iris.target  # Target labels\n",
    "target_names = iris.target_names  # Class names"
   ]
  },
  {
   "cell_type": "markdown",
   "id": "5f1f5c43",
   "metadata": {},
   "source": [
    "## Step 3: Split dataset (80% train, 20% test)\n"
   ]
  },
  {
   "cell_type": "code",
   "execution_count": 5,
   "id": "0fa54d1e",
   "metadata": {},
   "outputs": [],
   "source": [
    "X_train, X_test, y_train, y_test = train_test_split(X, y, test_size=0.2, random_state=0)\n"
   ]
  },
  {
   "cell_type": "markdown",
   "id": "9f789938",
   "metadata": {},
   "source": [
    "## Step 4: Train a Decision Tree Classifier"
   ]
  },
  {
   "cell_type": "code",
   "execution_count": 6,
   "id": "98ac1f8f",
   "metadata": {},
   "outputs": [
    {
     "data": {
      "text/html": [
       "<style>#sk-container-id-1 {color: black;}#sk-container-id-1 pre{padding: 0;}#sk-container-id-1 div.sk-toggleable {background-color: white;}#sk-container-id-1 label.sk-toggleable__label {cursor: pointer;display: block;width: 100%;margin-bottom: 0;padding: 0.3em;box-sizing: border-box;text-align: center;}#sk-container-id-1 label.sk-toggleable__label-arrow:before {content: \"▸\";float: left;margin-right: 0.25em;color: #696969;}#sk-container-id-1 label.sk-toggleable__label-arrow:hover:before {color: black;}#sk-container-id-1 div.sk-estimator:hover label.sk-toggleable__label-arrow:before {color: black;}#sk-container-id-1 div.sk-toggleable__content {max-height: 0;max-width: 0;overflow: hidden;text-align: left;background-color: #f0f8ff;}#sk-container-id-1 div.sk-toggleable__content pre {margin: 0.2em;color: black;border-radius: 0.25em;background-color: #f0f8ff;}#sk-container-id-1 input.sk-toggleable__control:checked~div.sk-toggleable__content {max-height: 200px;max-width: 100%;overflow: auto;}#sk-container-id-1 input.sk-toggleable__control:checked~label.sk-toggleable__label-arrow:before {content: \"▾\";}#sk-container-id-1 div.sk-estimator input.sk-toggleable__control:checked~label.sk-toggleable__label {background-color: #d4ebff;}#sk-container-id-1 div.sk-label input.sk-toggleable__control:checked~label.sk-toggleable__label {background-color: #d4ebff;}#sk-container-id-1 input.sk-hidden--visually {border: 0;clip: rect(1px 1px 1px 1px);clip: rect(1px, 1px, 1px, 1px);height: 1px;margin: -1px;overflow: hidden;padding: 0;position: absolute;width: 1px;}#sk-container-id-1 div.sk-estimator {font-family: monospace;background-color: #f0f8ff;border: 1px dotted black;border-radius: 0.25em;box-sizing: border-box;margin-bottom: 0.5em;}#sk-container-id-1 div.sk-estimator:hover {background-color: #d4ebff;}#sk-container-id-1 div.sk-parallel-item::after {content: \"\";width: 100%;border-bottom: 1px solid gray;flex-grow: 1;}#sk-container-id-1 div.sk-label:hover label.sk-toggleable__label {background-color: #d4ebff;}#sk-container-id-1 div.sk-serial::before {content: \"\";position: absolute;border-left: 1px solid gray;box-sizing: border-box;top: 0;bottom: 0;left: 50%;z-index: 0;}#sk-container-id-1 div.sk-serial {display: flex;flex-direction: column;align-items: center;background-color: white;padding-right: 0.2em;padding-left: 0.2em;position: relative;}#sk-container-id-1 div.sk-item {position: relative;z-index: 1;}#sk-container-id-1 div.sk-parallel {display: flex;align-items: stretch;justify-content: center;background-color: white;position: relative;}#sk-container-id-1 div.sk-item::before, #sk-container-id-1 div.sk-parallel-item::before {content: \"\";position: absolute;border-left: 1px solid gray;box-sizing: border-box;top: 0;bottom: 0;left: 50%;z-index: -1;}#sk-container-id-1 div.sk-parallel-item {display: flex;flex-direction: column;z-index: 1;position: relative;background-color: white;}#sk-container-id-1 div.sk-parallel-item:first-child::after {align-self: flex-end;width: 50%;}#sk-container-id-1 div.sk-parallel-item:last-child::after {align-self: flex-start;width: 50%;}#sk-container-id-1 div.sk-parallel-item:only-child::after {width: 0;}#sk-container-id-1 div.sk-dashed-wrapped {border: 1px dashed gray;margin: 0 0.4em 0.5em 0.4em;box-sizing: border-box;padding-bottom: 0.4em;background-color: white;}#sk-container-id-1 div.sk-label label {font-family: monospace;font-weight: bold;display: inline-block;line-height: 1.2em;}#sk-container-id-1 div.sk-label-container {text-align: center;}#sk-container-id-1 div.sk-container {/* jupyter's `normalize.less` sets `[hidden] { display: none; }` but bootstrap.min.css set `[hidden] { display: none !important; }` so we also need the `!important` here to be able to override the default hidden behavior on the sphinx rendered scikit-learn.org. See: https://github.com/scikit-learn/scikit-learn/issues/21755 */display: inline-block !important;position: relative;}#sk-container-id-1 div.sk-text-repr-fallback {display: none;}</style><div id=\"sk-container-id-1\" class=\"sk-top-container\"><div class=\"sk-text-repr-fallback\"><pre>DecisionTreeClassifier(random_state=0)</pre><b>In a Jupyter environment, please rerun this cell to show the HTML representation or trust the notebook. <br />On GitHub, the HTML representation is unable to render, please try loading this page with nbviewer.org.</b></div><div class=\"sk-container\" hidden><div class=\"sk-item\"><div class=\"sk-estimator sk-toggleable\"><input class=\"sk-toggleable__control sk-hidden--visually\" id=\"sk-estimator-id-1\" type=\"checkbox\" checked><label for=\"sk-estimator-id-1\" class=\"sk-toggleable__label sk-toggleable__label-arrow\">DecisionTreeClassifier</label><div class=\"sk-toggleable__content\"><pre>DecisionTreeClassifier(random_state=0)</pre></div></div></div></div></div>"
      ],
      "text/plain": [
       "DecisionTreeClassifier(random_state=0)"
      ]
     },
     "execution_count": 6,
     "metadata": {},
     "output_type": "execute_result"
    }
   ],
   "source": [
    "dt_model = DecisionTreeClassifier(random_state=0)\n",
    "dt_model.fit(X_train, y_train)"
   ]
  },
  {
   "cell_type": "markdown",
   "id": "69108306",
   "metadata": {},
   "source": [
    "## Step 5: Make predictions on test data\n"
   ]
  },
  {
   "cell_type": "code",
   "execution_count": 8,
   "id": "224a2195",
   "metadata": {},
   "outputs": [],
   "source": [
    "y_pred = dt_model.predict(X_test)"
   ]
  },
  {
   "cell_type": "markdown",
   "id": "2d53d1db",
   "metadata": {},
   "source": [
    "## Step 6: Evaluate model performance\n"
   ]
  },
  {
   "cell_type": "code",
   "execution_count": 9,
   "id": "d45cca09",
   "metadata": {},
   "outputs": [],
   "source": [
    "accuracy = accuracy_score(y_test, y_pred)\n",
    "precision = precision_score(y_test, y_pred, average='macro')\n",
    "recall = recall_score(y_test, y_pred, average='macro')\n",
    "f1 = f1_score(y_test, y_pred, average='macro')"
   ]
  },
  {
   "cell_type": "code",
   "execution_count": 10,
   "id": "fb9286cc",
   "metadata": {},
   "outputs": [
    {
     "name": "stdout",
     "output_type": "stream",
     "text": [
      "Classification Report:\n",
      "               precision    recall  f1-score   support\n",
      "\n",
      "      setosa       1.00      1.00      1.00        11\n",
      "  versicolor       1.00      1.00      1.00        13\n",
      "   virginica       1.00      1.00      1.00         6\n",
      "\n",
      "    accuracy                           1.00        30\n",
      "   macro avg       1.00      1.00      1.00        30\n",
      "weighted avg       1.00      1.00      1.00        30\n",
      "\n",
      "Accuracy: 1.00\n",
      "Precision (macro): 1.00\n",
      "Recall (macro): 1.00\n",
      "F1 Score (macro): 1.00\n"
     ]
    }
   ],
   "source": [
    "#  Print evaluation results\n",
    "print(\"Classification Report:\\n\", classification_report(y_test, y_pred, target_names=target_names))\n",
    "print(f\"Accuracy: {accuracy:.2f}\")\n",
    "print(f\"Precision (macro): {precision:.2f}\")\n",
    "print(f\"Recall (macro): {recall:.2f}\")\n",
    "print(f\"F1 Score (macro): {f1:.2f}\")"
   ]
  },
  {
   "cell_type": "markdown",
   "id": "9fb59685",
   "metadata": {},
   "source": [
    "### **Insights**\n",
    "- The model achieved **perfect classification** across all metrics.\n",
    "- This could indicate:\n",
    "  - Clear separation between the classes in the dataset\n",
    "  - A well-fitting Decision Tree model\n",
    "- However, it's also worth noting that:\n",
    "  - The test set size is small (**only 30 samples**), so results may vary with larger data or different splits.\n",
    "  - Overfitting is **unlikely but still possible** if the model memorized the training data.\n",
    "\n",
    "---\n",
    "\n",
    "### Conclusion\n",
    "This is an **ideal outcome** for a classification task, especially with the clean and well-behaved **Iris dataset**. The model is performing **accurately, consistently, and fairly** across all classes."
   ]
  },
  {
   "cell_type": "markdown",
   "id": "5362eb41",
   "metadata": {},
   "source": [
    "## Step 7: Plot Confusion Matrix"
   ]
  },
  {
   "cell_type": "code",
   "execution_count": 11,
   "id": "9e90f2e9",
   "metadata": {},
   "outputs": [
    {
     "data": {
      "image/png": "[encoded data removed]",
      "text/plain": [
       "<Figure size 600x400 with 2 Axes>"
      ]
     },
     "metadata": {},
     "output_type": "display_data"
    }
   ],
   "source": [
    "cm = confusion_matrix(y_test, y_pred)\n",
    "plt.figure(figsize=(6, 4))\n",
    "sns.heatmap(cm, annot=True, fmt='d', cmap='Greens', xticklabels=target_names, yticklabels=target_names)\n",
    "plt.title(\"Confusion Matrix - Decision Tree (Iris)\")\n",
    "plt.xlabel(\"Predicted\")\n",
    "plt.ylabel(\"Actual\")\n",
    "plt.tight_layout()\n",
    "plt.show()"
   ]
  },
  {
   "cell_type": "code",
   "execution_count": null,
   "id": "a01b79dc",
   "metadata": {},
   "outputs": [],
   "source": []
  }
 ],
 "metadata": {
  "kernelspec": {
   "display_name": "Python 3 (ipykernel)",
   "language": "python",
   "name": "python3"
  },
  "language_info": {
   "codemirror_mode": {
    "name": "ipython",
    "version": 3
   },
   "file_extension": ".py",
   "mimetype": "text/x-python",
   "name": "python",
   "nbconvert_exporter": "python",
   "pygments_lexer": "ipython3",
   "version": "3.9.16"
  }
 },
 "nbformat": 4,
 "nbformat_minor": 5
}
