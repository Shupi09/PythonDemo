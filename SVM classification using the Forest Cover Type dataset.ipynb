{
 "cells": [
  {
   "cell_type": "markdown",
   "id": "a26a99e5",
   "metadata": {},
   "source": [
    "## SVM Classification on Forest Cover Type Dataset"
   ]
  },
  {
   "cell_type": "markdown",
   "id": "a4e20ac7",
   "metadata": {},
   "source": [
    "##  Forest Cover Type Dataset\n",
    "\n",
    "###  Overview\n",
    "The **Forest Cover Type** dataset is a real-world multi-class classification dataset from the **U.S. Forest Service**. The goal is to predict the **type of forest cover** based on cartographic features such as elevation, slope, and soil type.\n",
    "\n",
    "---\n",
    "\n",
    "### Source\n",
    "- **UCI Machine Learning Repository**  \n",
    "- [Forest Cover Type Dataset](https://archive.ics.uci.edu/ml/datasets/Covertype)\n",
    "\n",
    "---\n",
    "\n",
    "### Objective\n",
    "To predict the **forest cover type (classes 1–7)** using 54 environmental and geographic features.\n",
    "\n",
    "---\n",
    "\n",
    "### Target Classes\n",
    "There are 7 forest cover types (multi-class labels):\n",
    "1. Spruce/Fir  \n",
    "2. Lodgepole Pine  \n",
    "3. Ponderosa Pine  \n",
    "4. Cottonwood/Willow  \n",
    "5. Aspen  \n",
    "6. Douglas-fir  \n",
    "7. Krummholz\n",
    "\n",
    "---\n",
    "\n",
    "### Features\n",
    "- **Numerical Features**:\n",
    "  - Elevation\n",
    "  - Aspect (azimuth)\n",
    "  - Slope\n",
    "  - Horizontal & Vertical Distance to Hydrology\n",
    "  - Horizontal Distance to Roadways\n",
    "  - Hillshade at 9am, Noon, and 3pm\n",
    "\n",
    "- **Binary/Categorical Features**:\n",
    "  - 4 Wilderness Area indicators (one-hot encoded)\n",
    "  - 40 Soil Type indicators (one-hot encoded)\n",
    "\n",
    "---\n",
    "\n",
    "### Dataset Size\n",
    "- ~581,000 instances (rows)\n",
    "- 54 input features + 1 target variable\n",
    "- Suitable for benchmarking large-scale multi-class classification algorithms\n",
    "\n",
    "---\n",
    "\n",
    "### Why This Dataset?\n",
    "- Real-world terrain and forest data\n",
    "- Multi-class target variable (7 classes)\n",
    "- Mixed feature types: continuous and binary\n",
    "- Useful for testing classifiers like SVM, Random Forest, and Gradient Boosting\n"
   ]
  },
  {
   "cell_type": "code",
   "execution_count": 3,
   "id": "47fd408e",
   "metadata": {},
   "outputs": [],
   "source": [
    "from sklearn.datasets import fetch_covtype\n",
    "from sklearn.model_selection import train_test_split\n",
    "from sklearn.preprocessing import StandardScaler\n",
    "from sklearn.svm import SVC\n",
    "from sklearn.metrics import classification_report, confusion_matrix\n",
    "import matplotlib.pyplot as plt\n",
    "import seaborn as sns\n",
    "import pandas as pd"
   ]
  },
  {
   "cell_type": "code",
   "execution_count": 6,
   "id": "604ea8d9",
   "metadata": {},
   "outputs": [
    {
     "name": "stdout",
     "output_type": "stream",
     "text": [
      "Features are \n",
      " [[2.596e+03 5.100e+01 3.000e+00 ... 0.000e+00 0.000e+00 0.000e+00]\n",
      " [2.590e+03 5.600e+01 2.000e+00 ... 0.000e+00 0.000e+00 0.000e+00]\n",
      " [2.804e+03 1.390e+02 9.000e+00 ... 0.000e+00 0.000e+00 0.000e+00]\n",
      " ...\n",
      " [2.386e+03 1.590e+02 1.700e+01 ... 0.000e+00 0.000e+00 0.000e+00]\n",
      " [2.384e+03 1.700e+02 1.500e+01 ... 0.000e+00 0.000e+00 0.000e+00]\n",
      " [2.383e+03 1.650e+02 1.300e+01 ... 0.000e+00 0.000e+00 0.000e+00]]\n",
      "Traget is\n",
      " [5 5 2 ... 3 3 3]\n"
     ]
    }
   ],
   "source": [
    "# 1. Load Dataset\n",
    "data = fetch_covtype()\n",
    "X = data.data\n",
    "y = data.target\n",
    "print(\"Features are \\n\",X)\n",
    "print(\"Traget is\\n\",y)"
   ]
  },
  {
   "cell_type": "code",
   "execution_count": 7,
   "id": "8e4fbb9d",
   "metadata": {},
   "outputs": [],
   "source": [
    "# 2. Sample a subset (for speed)\n",
    "from sklearn.utils import resample\n",
    "X, y = resample(X, y, n_samples=5000, random_state=42, stratify=y)\n"
   ]
  },
  {
   "cell_type": "code",
   "execution_count": 8,
   "id": "522c3270",
   "metadata": {},
   "outputs": [],
   "source": [
    "# 3. Split Data\n",
    "X_train, X_test, y_train, y_test = train_test_split(X, y, test_size=0.2, stratify=y, random_state=42)\n"
   ]
  },
  {
   "cell_type": "code",
   "execution_count": 10,
   "id": "f903913c",
   "metadata": {},
   "outputs": [
    {
     "name": "stdout",
     "output_type": "stream",
     "text": [
      "Scaled features [[ 1.4951755  -0.73257327  1.72827107 ... -0.16737193  6.06101056\n",
      "  -0.11807497]\n",
      " [-1.05697519  1.03006313  1.32560623 ... -0.16737193 -0.16498899\n",
      "  -0.11807497]\n",
      " [-3.37121353 -0.80451762  2.39937915 ... -0.16737193 -0.16498899\n",
      "  -0.11807497]\n",
      " ...\n",
      " [ 0.29479954 -1.25416976  0.52027654 ... -0.16737193 -0.16498899\n",
      "  -0.11807497]\n",
      " [-1.61570875  1.64159005  2.26515753 ... -0.16737193 -0.16498899\n",
      "  -0.11807497]\n",
      " [-2.08432399  1.20992399  2.13093592 ... -0.16737193 -0.16498899\n",
      "  -0.11807497]]\n"
     ]
    }
   ],
   "source": [
    "# 4. Scale Features\n",
    "scaler = StandardScaler()\n",
    "X_train_scaled = scaler.fit_transform(X_train)\n",
    "X_test_scaled = scaler.transform(X_test)\n",
    "print(\"Scaled features\",X_train_scaled)"
   ]
  },
  {
   "cell_type": "code",
   "execution_count": 11,
   "id": "a1112109",
   "metadata": {},
   "outputs": [
    {
     "data": {
      "text/html": [
       "<style>#sk-container-id-1 {color: black;}#sk-container-id-1 pre{padding: 0;}#sk-container-id-1 div.sk-toggleable {background-color: white;}#sk-container-id-1 label.sk-toggleable__label {cursor: pointer;display: block;width: 100%;margin-bottom: 0;padding: 0.3em;box-sizing: border-box;text-align: center;}#sk-container-id-1 label.sk-toggleable__label-arrow:before {content: \"▸\";float: left;margin-right: 0.25em;color: #696969;}#sk-container-id-1 label.sk-toggleable__label-arrow:hover:before {color: black;}#sk-container-id-1 div.sk-estimator:hover label.sk-toggleable__label-arrow:before {color: black;}#sk-container-id-1 div.sk-toggleable__content {max-height: 0;max-width: 0;overflow: hidden;text-align: left;background-color: #f0f8ff;}#sk-container-id-1 div.sk-toggleable__content pre {margin: 0.2em;color: black;border-radius: 0.25em;background-color: #f0f8ff;}#sk-container-id-1 input.sk-toggleable__control:checked~div.sk-toggleable__content {max-height: 200px;max-width: 100%;overflow: auto;}#sk-container-id-1 input.sk-toggleable__control:checked~label.sk-toggleable__label-arrow:before {content: \"▾\";}#sk-container-id-1 div.sk-estimator input.sk-toggleable__control:checked~label.sk-toggleable__label {background-color: #d4ebff;}#sk-container-id-1 div.sk-label input.sk-toggleable__control:checked~label.sk-toggleable__label {background-color: #d4ebff;}#sk-container-id-1 input.sk-hidden--visually {border: 0;clip: rect(1px 1px 1px 1px);clip: rect(1px, 1px, 1px, 1px);height: 1px;margin: -1px;overflow: hidden;padding: 0;position: absolute;width: 1px;}#sk-container-id-1 div.sk-estimator {font-family: monospace;background-color: #f0f8ff;border: 1px dotted black;border-radius: 0.25em;box-sizing: border-box;margin-bottom: 0.5em;}#sk-container-id-1 div.sk-estimator:hover {background-color: #d4ebff;}#sk-container-id-1 div.sk-parallel-item::after {content: \"\";width: 100%;border-bottom: 1px solid gray;flex-grow: 1;}#sk-container-id-1 div.sk-label:hover label.sk-toggleable__label {background-color: #d4ebff;}#sk-container-id-1 div.sk-serial::before {content: \"\";position: absolute;border-left: 1px solid gray;box-sizing: border-box;top: 0;bottom: 0;left: 50%;z-index: 0;}#sk-container-id-1 div.sk-serial {display: flex;flex-direction: column;align-items: center;background-color: white;padding-right: 0.2em;padding-left: 0.2em;position: relative;}#sk-container-id-1 div.sk-item {position: relative;z-index: 1;}#sk-container-id-1 div.sk-parallel {display: flex;align-items: stretch;justify-content: center;background-color: white;position: relative;}#sk-container-id-1 div.sk-item::before, #sk-container-id-1 div.sk-parallel-item::before {content: \"\";position: absolute;border-left: 1px solid gray;box-sizing: border-box;top: 0;bottom: 0;left: 50%;z-index: -1;}#sk-container-id-1 div.sk-parallel-item {display: flex;flex-direction: column;z-index: 1;position: relative;background-color: white;}#sk-container-id-1 div.sk-parallel-item:first-child::after {align-self: flex-end;width: 50%;}#sk-container-id-1 div.sk-parallel-item:last-child::after {align-self: flex-start;width: 50%;}#sk-container-id-1 div.sk-parallel-item:only-child::after {width: 0;}#sk-container-id-1 div.sk-dashed-wrapped {border: 1px dashed gray;margin: 0 0.4em 0.5em 0.4em;box-sizing: border-box;padding-bottom: 0.4em;background-color: white;}#sk-container-id-1 div.sk-label label {font-family: monospace;font-weight: bold;display: inline-block;line-height: 1.2em;}#sk-container-id-1 div.sk-label-container {text-align: center;}#sk-container-id-1 div.sk-container {/* jupyter's `normalize.less` sets `[hidden] { display: none; }` but bootstrap.min.css set `[hidden] { display: none !important; }` so we also need the `!important` here to be able to override the default hidden behavior on the sphinx rendered scikit-learn.org. See: https://github.com/scikit-learn/scikit-learn/issues/21755 */display: inline-block !important;position: relative;}#sk-container-id-1 div.sk-text-repr-fallback {display: none;}</style><div id=\"sk-container-id-1\" class=\"sk-top-container\"><div class=\"sk-text-repr-fallback\"><pre>SVC(C=10)</pre><b>In a Jupyter environment, please rerun this cell to show the HTML representation or trust the notebook. <br />On GitHub, the HTML representation is unable to render, please try loading this page with nbviewer.org.</b></div><div class=\"sk-container\" hidden><div class=\"sk-item\"><div class=\"sk-estimator sk-toggleable\"><input class=\"sk-toggleable__control sk-hidden--visually\" id=\"sk-estimator-id-1\" type=\"checkbox\" checked><label for=\"sk-estimator-id-1\" class=\"sk-toggleable__label sk-toggleable__label-arrow\">SVC</label><div class=\"sk-toggleable__content\"><pre>SVC(C=10)</pre></div></div></div></div></div>"
      ],
      "text/plain": [
       "SVC(C=10)"
      ]
     },
     "execution_count": 11,
     "metadata": {},
     "output_type": "execute_result"
    }
   ],
   "source": [
    "# 5. Train SVM (with RBF kernel)\n",
    "svm = SVC(kernel='rbf', C=10, gamma='scale')\n",
    "svm.fit(X_train_scaled, y_train)"
   ]
  },
  {
   "cell_type": "markdown",
   "id": "d7271e52",
   "metadata": {},
   "source": [
    "| Parameter       | Meaning                                                                                                                                                                                                                           |\n",
    "| --------------- | --------------------------------------------------------------------------------------------------------------------------------------------------------------------------------------------------------------------------------- |\n",
    "| `kernel='rbf'`  | **Radial Basis Function (RBF)** kernel, a type of non-linear kernel that maps input features into higher-dimensional space to find a better decision boundary. This is the default and most commonly used kernel.                 |\n",
    "| `C=10`          | **Regularization parameter**. A **higher value of C** means the model will try to **fit the training data more closely** (low bias, high variance). A smaller C gives a **smoother decision boundary** (high bias, low variance). |\n",
    "| `gamma='scale'` | Defines how far the influence of a single training example reaches. `'scale'` means it uses `1 / (n_features * X.var())` by default, which is usually a good starting point.                                                      |\n"
   ]
  },
  {
   "cell_type": "code",
   "execution_count": 13,
   "id": "a3ab6c34",
   "metadata": {},
   "outputs": [],
   "source": [
    "# 6. Predict\n",
    "y_pred = svm.predict(X_test_scaled)"
   ]
  },
  {
   "cell_type": "code",
   "execution_count": 16,
   "id": "5339cff4",
   "metadata": {},
   "outputs": [
    {
     "name": "stdout",
     "output_type": "stream",
     "text": [
      "              precision    recall  f1-score   support\n",
      "\n",
      "           1       0.76      0.67      0.71       365\n",
      "           2       0.75      0.87      0.81       488\n",
      "           3       0.71      0.80      0.75        61\n",
      "           4       0.50      0.40      0.44         5\n",
      "           5       1.00      0.00      0.00        16\n",
      "           6       0.37      0.23      0.29        30\n",
      "           7       0.88      0.66      0.75        35\n",
      "\n",
      "    accuracy                           0.75      1000\n",
      "   macro avg       0.71      0.52      0.54      1000\n",
      "weighted avg       0.75      0.75      0.74      1000\n",
      "\n"
     ]
    }
   ],
   "source": [
    "# 7. Evaluation\n",
    "from sklearn.metrics import classification_report\n",
    "print(classification_report(y_test, y_pred, zero_division=1))\n"
   ]
  },
  {
   "cell_type": "markdown",
   "id": "fff6ecc6",
   "metadata": {},
   "source": [
    "| Class | Precision | Recall | F1-score | Support | Observation                     |\n",
    "| ----- | --------- | ------ | -------- | ------- | ------------------------------- |\n",
    "| **1** | 0.76      | 0.67   | 0.71     | 365     | Decent, room to improve recall. |\n",
    "| **2** | 0.75      | 0.87   | 0.81     | 488     | Very good, especially recall.   |\n",
    "| **3** | 0.71      | 0.80   | 0.75     | 61      | Solid for a small class.        |\n",
    "| **4** | 0.50      | 0.40   | 0.44     | 5       | Small sample, underperforming.  |\n",
    "| **5** | 0.00      | 0.00   | 0.00     | 16      | 🚨 Not detected at all.         |\n",
    "| **6** | 0.37      | 0.23   | 0.29     | 30      | Poor precision and recall.      |\n",
    "| **7** | 0.88      | 0.66   | 0.75     | 35      | Good precision, okay recall.    |\n"
   ]
  },
  {
   "cell_type": "code",
   "execution_count": 17,
   "id": "313c3bd5",
   "metadata": {},
   "outputs": [
    {
     "data": {
      "image/png": "[encoded data removed]",
      "text/plain": [
       "<Figure size 1000x700 with 2 Axes>"
      ]
     },
     "metadata": {},
     "output_type": "display_data"
    }
   ],
   "source": [
    "# 8. Confusion Matrix\n",
    "cm = confusion_matrix(y_test, y_pred)\n",
    "plt.figure(figsize=(10, 7))\n",
    "sns.heatmap(cm, annot=True, fmt=\"d\", cmap=\"Blues\", xticklabels=range(1, 8), yticklabels=range(1, 8))\n",
    "plt.title(\"Confusion Matrix (SVM - Forest Cover Type)\")\n",
    "plt.xlabel(\"Predicted\")\n",
    "plt.ylabel(\"Actual\")\n",
    "plt.show()"
   ]
  },
  {
   "cell_type": "markdown",
   "id": "91e72f83",
   "metadata": {},
   "source": [
    "Each row in the confusion matrix corresponds to the actual class, and each column to the predicted class.\n",
    "\n",
    "Classes (Forest Cover Types):\n",
    "\n",
    "1.Spruce/Fir\n",
    "\n",
    "2.Lodgepole Pine\n",
    "\n",
    "3.Ponderosa Pine\n",
    "\n",
    "4.Cottonwood/Willow\n",
    "\n",
    "5.Aspen\n",
    "\n",
    "6.Douglas-fir\n",
    "\n",
    "7.Krummholz\n",
    "\n"
   ]
  },
  {
   "cell_type": "markdown",
   "id": "1773d0cc",
   "metadata": {},
   "source": [
    " ### Interpretation\n",
    "Diagonal elements (in bold) are correctly predicted instances.\n",
    "\n",
    "Off-diagonal values are misclassifications.\n",
    "\n",
    "Key Observations:\n",
    "\n",
    "Class 2 (Lodgepole Pine) has the highest correct predictions: 424, but also some misclassified as class 1.\n",
    "\n",
    "Class 1 (Spruce/Fir) has 243 correct, but 117 were wrongly predicted as class 2. Suggests these two are hard to separate.\n",
    "\n",
    "Class 3 to 7 have relatively fewer instances and more misclassifications.\n",
    "\n",
    "Class 6 (Douglas-fir) shows confusion mostly with class 3."
   ]
  },
  {
   "cell_type": "markdown",
   "id": "17d336df",
   "metadata": {},
   "source": [
    "## What This Tells Us:\n",
    "SVM with RBF kernel is doing quite well in distinguishing major classes, especially 1 and 2.\n",
    "\n",
    "There's overlap/confusion between similar forest types, especially Spruce/Fir and Lodgepole Pine.\n",
    "\n",
    "Minority classes (like 4, 5, 6) are harder to classify due to fewer examples or overlapping features.\n",
    "\n"
   ]
  }
 ],
 "metadata": {
  "kernelspec": {
   "display_name": "Python 3 (ipykernel)",
   "language": "python",
   "name": "python3"
  },
  "language_info": {
   "codemirror_mode": {
    "name": "ipython",
    "version": 3
   },
   "file_extension": ".py",
   "mimetype": "text/x-python",
   "name": "python",
   "nbconvert_exporter": "python",
   "pygments_lexer": "ipython3",
   "version": "3.9.16"
  }
 },
 "nbformat": 4,
 "nbformat_minor": 5
}
